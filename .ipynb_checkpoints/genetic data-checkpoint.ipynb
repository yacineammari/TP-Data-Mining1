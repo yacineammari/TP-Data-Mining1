{
 "cells": [
  {
   "cell_type": "markdown",
   "id": "0c5f5698",
   "metadata": {},
   "source": [
    "# library"
   ]
  },
  {
   "cell_type": "code",
   "execution_count": 1,
   "id": "ecabda6e",
   "metadata": {},
   "outputs": [],
   "source": [
    "import pandas as pd #to read data as dataframe\n",
    "import numpy as np #for dataframe and list manipulation\n",
    "import matplotlib.pyplot as plt #for ploting data\n",
    "import seaborn as sns #just an add on for matplotlib for better color palette\n",
    "from Bio.Cluster import kcluster #k-mean algorithm\n",
    "from Bio.Cluster import kmedoids #k-medois algorithm\n",
    "from sklearn.cluster import AgglomerativeClustering #agnes algorithm to get the clusted id\n",
    "import scipy.cluster.hierarchy as sch #agnes algorithm to get the dendrogram \n",
    "from scipy.cluster.hierarchy import dendrogram, linkage\n",
    "from scipy.spatial.distance import squareform\n",
    "from sklearn.cluster import DBSCAN #DBSCAN algorithm\n",
    "import Levenshtein #for levenshtein distance\n",
    "%matplotlib inline \n",
    "#to make jupyter notbook showes matplotlib plots and histogram"
   ]
  },
  {
   "cell_type": "markdown",
   "id": "1a935e7f",
   "metadata": {},
   "source": [
    "# calibrate a list of ADN sequence"
   ]
  },
  {
   "cell_type": "code",
   "execution_count": 2,
   "id": "17eca3e6",
   "metadata": {},
   "outputs": [],
   "source": [
    "def calibrate(list_adn):\n",
    "    # this fucntion calibrate a list of ADN sequence by filling the empty positiong with \"-\"\n",
    "    list_of_adn_len = []\n",
    "    for adn in list_adn:\n",
    "        list_of_adn_len.append(len(adn))\n",
    "    max_len = max(list_of_adn_len)\n",
    "    for i in range(len(list_adn)):\n",
    "        list_adn[i] = list_adn[i] + \"-\" * (max_len-len(list_adn[i]))\n",
    "    return list_adn"
   ]
  },
  {
   "cell_type": "markdown",
   "id": "def04dd3",
   "metadata": {},
   "source": [
    "# Reading fasta file as dataframe"
   ]
  },
  {
   "cell_type": "code",
   "execution_count": 3,
   "id": "6d601c51",
   "metadata": {},
   "outputs": [],
   "source": [
    "def read_fasta(fasta_file):\n",
    "    # read fasta file\n",
    "    # this function return a dataframe\n",
    "    with open(fasta_file, 'r') as f:\n",
    "        data = []\n",
    "        ind = \"\"\n",
    "        adn = \"\"\n",
    "        for line in f:\n",
    "            if line[0] == \">\":\n",
    "                if len(adn) > 1 and len(ind) > 1:\n",
    "                    data.append(adn)\n",
    "                ind = line.strip()\n",
    "                adn = \"\"\n",
    "            else:\n",
    "                adn = adn + line.strip()\n",
    "        else:\n",
    "            data.append(adn)\n",
    "    data = calibrate(data)\n",
    "    return pd.DataFrame(data)"
   ]
  },
  {
   "cell_type": "markdown",
   "id": "a05e9af5",
   "metadata": {},
   "source": [
    "# Levenshtein distance"
   ]
  },
  {
   "cell_type": "code",
   "execution_count": 4,
   "id": "0b31fc9f",
   "metadata": {},
   "outputs": [],
   "source": [
    "def lev(a,b):\n",
    "    return Levenshtein.distance(a,b)"
   ]
  },
  {
   "cell_type": "markdown",
   "id": "2f011d60",
   "metadata": {},
   "source": [
    "# matrix of distnace"
   ]
  },
  {
   "cell_type": "code",
   "execution_count": 5,
   "id": "9745ab69",
   "metadata": {},
   "outputs": [],
   "source": [
    "def mtx_distnace(df):\n",
    "    data = df[0].tolist() \n",
    "    matrice =[]\n",
    "    for elem in data:\n",
    "        min_list = []\n",
    "        for elem2 in data:         \n",
    "            min_list.append(lev(elem, elem2))\n",
    "        matrice.append(min_list)\n",
    "    return matrice "
   ]
  },
  {
   "cell_type": "markdown",
   "id": "7fe29f75",
   "metadata": {},
   "source": [
    "# k means"
   ]
  },
  {
   "cell_type": "code",
   "execution_count": 6,
   "id": "ffbb3bbf",
   "metadata": {},
   "outputs": [],
   "source": [
    "def kmeans_for_genetac_data(df,k=2):\n",
    "    #we start by converting every character in the DNA seq into his ASCII code\n",
    "    data = df[0].tolist()\n",
    "    matrix = np.asarray([np.frombuffer(s.upper().encode(), dtype=np.uint8) for s in data ])\n",
    "    clusterid, error, nfound = kcluster(matrix,nclusters=k)\n",
    "    df['clusterid'] = clusterid\n",
    "    return df    "
   ]
  },
  {
   "cell_type": "markdown",
   "id": "e956082d",
   "metadata": {},
   "source": [
    "# k medoids"
   ]
  },
  {
   "cell_type": "code",
   "execution_count": 7,
   "id": "b6a399fa",
   "metadata": {},
   "outputs": [],
   "source": [
    "def k_medoids(df,mtx,k=2):\n",
    "    clusterid, error, nfound = kmedoids(mtx,nclusters=k)\n",
    "    df['clusterid'] = clusterid\n",
    "    return df    "
   ]
  },
  {
   "cell_type": "markdown",
   "id": "7fe32efd",
   "metadata": {},
   "source": [
    "# Agnes"
   ]
  },
  {
   "cell_type": "code",
   "execution_count": 12,
   "id": "d4aa7633",
   "metadata": {},
   "outputs": [
    {
     "ename": "SyntaxError",
     "evalue": "invalid syntax (<ipython-input-12-70b789c427cd>, line 6)",
     "output_type": "error",
     "traceback": [
      "\u001b[1;36m  File \u001b[1;32m\"<ipython-input-12-70b789c427cd>\"\u001b[1;36m, line \u001b[1;32m6\u001b[0m\n\u001b[1;33m    create clusters\u001b[0m\n\u001b[1;37m           ^\u001b[0m\n\u001b[1;31mSyntaxError\u001b[0m\u001b[1;31m:\u001b[0m invalid syntax\n"
     ]
    }
   ],
   "source": [
    "def agnes(df,mtx,k=2):   \n",
    "    plt.figure(figsize=(16, 6))    \n",
    "    dists = squareform(mtx)\n",
    "    linkage_matrix = linkage(dists, 'average')\n",
    "    dendrogram(linkage_matrix)\n",
    "#     create clusters\n",
    "#     single\n",
    "    hc = AgglomerativeClustering(n_clusters=k, affinity='precomputed',linkage='average')\n",
    "    # save clusters for chart\n",
    "    y_hc = hc.fit_predict(mtx)\n",
    "    df['clusterid'] = y_hc\n",
    "    return df    "
   ]
  },
  {
   "cell_type": "markdown",
   "id": "611199d0",
   "metadata": {},
   "source": [
    "# dbscan"
   ]
  },
  {
   "cell_type": "code",
   "execution_count": 9,
   "id": "73d2bd62",
   "metadata": {},
   "outputs": [],
   "source": [
    "from sklearn.cluster import DBSCAN #DBSCAN algorithm\n",
    "def dbs(df,mtx,eps=0.5,min_samples=5):\n",
    "    #eps,default=0.5\n",
    "    #The maximum distance between two samples for one to be considered as in the neighborhood of the other.\n",
    "\n",
    "    #min_samplesint, default=5\n",
    "    #The number of samples in a neighborhood for a point to be considered as a core point.\n",
    "    #This includes the point itself.\n",
    "    \n",
    "    #Noisy samples are given the label -1.\n",
    "    clustering = DBSCAN(metric='precomputed', eps=eps, min_samples=min_samples, algorithm='brute')\n",
    "    y_db = clustering.fit_predict(mtx)\n",
    "    return y_db"
   ]
  },
  {
   "cell_type": "markdown",
   "id": "c1bd2388",
   "metadata": {},
   "source": [
    "# Silhouette"
   ]
  },
  {
   "cell_type": "code",
   "execution_count": 10,
   "id": "28d399b7",
   "metadata": {},
   "outputs": [],
   "source": [
    "def silhouette(df,df2):\n",
    "    pssible_cluster_id = df['clusterid'].unique().tolist()\n",
    "    cluster_and_pos = {}\n",
    "    for cid in pssible_cluster_id:\n",
    "        cluster_and_pos[cid] = list_of_ind = df.index[df['clusterid'] == cid].tolist()    \n",
    "    #calculating A(i)\n",
    "    a = {}\n",
    "    for i in range(len(df[0].tolist())):\n",
    "        #calculate som\n",
    "        som = 0\n",
    "        cluster_id = df['clusterid'][i]\n",
    "        for elem in cluster_and_pos[cluster_id]:\n",
    "            if i != cluster_id:\n",
    "                som = som + df2[i][elem]\n",
    "        if len(cluster_and_pos[cluster_id]) > 1:\n",
    "            a[i]=som/(len(cluster_and_pos[cluster_id])-1)\n",
    "        else:\n",
    "            a[i] = 0    \n",
    "    #calculating B(i)\n",
    "    b = {}\n",
    "    #for every element of my dataset\n",
    "    for i in range(len(df[0].tolist())):\n",
    "        list_of_som = []\n",
    "        cluster_id = df['clusterid'][i]\n",
    "        #for every cluster \n",
    "        for c in pssible_cluster_id:\n",
    "            if c != cluster_id:\n",
    "                som = 0\n",
    "                #calclulate the sum of every cluster\n",
    "                for elem in cluster_and_pos[c]:\n",
    "                    som = som + df2[i][elem]\n",
    "                list_of_som.append(som/len(cluster_and_pos[c]))\n",
    "        try:\n",
    "            b[i] = min(list_of_som)\n",
    "        except:\n",
    "            b[i] = 0\n",
    "    s = {}\n",
    "    for i in range(len(df[0].tolist())):\n",
    "        s[i] = (b[i]-a[i])/(max(b[i],a[i]))   \n",
    "    pos = 0\n",
    "    neg = 0\n",
    "    for val in s.values():\n",
    "        if val < 0 : neg +=1\n",
    "        else: pos +=1    \n",
    "    return ((pos/len(s))*100)"
   ]
  },
  {
   "cell_type": "markdown",
   "id": "dcaf61ab",
   "metadata": {},
   "source": [
    "# TESTS"
   ]
  },
  {
   "cell_type": "code",
   "execution_count": 11,
   "id": "37d5bb75",
   "metadata": {},
   "outputs": [],
   "source": [
    "df = read_fasta('dna_examples.fasta')\n",
    "mtx = mtx_distnace(df)\n",
    "df2 = pd.DataFrame.from_records(mtx)"
   ]
  },
  {
   "cell_type": "code",
   "execution_count": 16,
   "id": "b46f3556",
   "metadata": {
    "scrolled": true
   },
   "outputs": [
    {
     "data": {
      "text/html": [
       "<div>\n",
       "<style scoped>\n",
       "    .dataframe tbody tr th:only-of-type {\n",
       "        vertical-align: middle;\n",
       "    }\n",
       "\n",
       "    .dataframe tbody tr th {\n",
       "        vertical-align: top;\n",
       "    }\n",
       "\n",
       "    .dataframe thead th {\n",
       "        text-align: right;\n",
       "    }\n",
       "</style>\n",
       "<table border=\"1\" class=\"dataframe\">\n",
       "  <thead>\n",
       "    <tr style=\"text-align: right;\">\n",
       "      <th></th>\n",
       "      <th>0</th>\n",
       "      <th>clusterid</th>\n",
       "    </tr>\n",
       "  </thead>\n",
       "  <tbody>\n",
       "    <tr>\n",
       "      <th>0</th>\n",
       "      <td>CCAGCTGCATCACAGGAGGCCAGCGAGCAGGTCTGTTCCAAGGGCC...</td>\n",
       "      <td>145</td>\n",
       "    </tr>\n",
       "    <tr>\n",
       "      <th>1</th>\n",
       "      <td>AGACCCGCCGGGAGGCGGAGGACCTGCAGGGTGAGCCCCACCGCCC...</td>\n",
       "      <td>10</td>\n",
       "    </tr>\n",
       "    <tr>\n",
       "      <th>2</th>\n",
       "      <td>GAGGTGAAGGACGTCCTTCCCCAGGAGCCGGTGAGAAGCGCAGTCG...</td>\n",
       "      <td>208</td>\n",
       "    </tr>\n",
       "    <tr>\n",
       "      <th>3</th>\n",
       "      <td>GGGCTGCGTTGCTGGTCACATTCCTGGCAGGTATGGGGCGGGGCTT...</td>\n",
       "      <td>206</td>\n",
       "    </tr>\n",
       "    <tr>\n",
       "      <th>4</th>\n",
       "      <td>GCTCAGCCCCCAGGTCACCCAGGAACTGACGTGAGTGTCCCCATCC...</td>\n",
       "      <td>145</td>\n",
       "    </tr>\n",
       "    <tr>\n",
       "      <th>...</th>\n",
       "      <td>...</td>\n",
       "      <td>...</td>\n",
       "    </tr>\n",
       "    <tr>\n",
       "      <th>360</th>\n",
       "      <td>CTGGTGTGCTCTCTGGTGATCAAGATACAGGTAGGTCATCATCGCA...</td>\n",
       "      <td>145</td>\n",
       "    </tr>\n",
       "    <tr>\n",
       "      <th>361</th>\n",
       "      <td>AACCAACTGTTACAATCAAGGTCTATGAAGGTAATTACCTTAAGTT...</td>\n",
       "      <td>208</td>\n",
       "    </tr>\n",
       "    <tr>\n",
       "      <th>362</th>\n",
       "      <td>GGCTTCCCGTGCAACCAGTTTGGGCATCAGGTGCGCCGGGCGGAGC...</td>\n",
       "      <td>106</td>\n",
       "    </tr>\n",
       "    <tr>\n",
       "      <th>363</th>\n",
       "      <td>GGTGCCTCAGCGTTCGGGCTGGAGACGAGGGTGAGTTTTTCCCCCT...</td>\n",
       "      <td>145</td>\n",
       "    </tr>\n",
       "    <tr>\n",
       "      <th>364</th>\n",
       "      <td>AGGACAGAGGAGGCGCGTCCGGCCTTCCTGGTGAGCGTGTCTGCCC...</td>\n",
       "      <td>10</td>\n",
       "    </tr>\n",
       "  </tbody>\n",
       "</table>\n",
       "<p>365 rows × 2 columns</p>\n",
       "</div>"
      ],
      "text/plain": [
       "                                                     0  clusterid\n",
       "0    CCAGCTGCATCACAGGAGGCCAGCGAGCAGGTCTGTTCCAAGGGCC...        145\n",
       "1    AGACCCGCCGGGAGGCGGAGGACCTGCAGGGTGAGCCCCACCGCCC...         10\n",
       "2    GAGGTGAAGGACGTCCTTCCCCAGGAGCCGGTGAGAAGCGCAGTCG...        208\n",
       "3    GGGCTGCGTTGCTGGTCACATTCCTGGCAGGTATGGGGCGGGGCTT...        206\n",
       "4    GCTCAGCCCCCAGGTCACCCAGGAACTGACGTGAGTGTCCCCATCC...        145\n",
       "..                                                 ...        ...\n",
       "360  CTGGTGTGCTCTCTGGTGATCAAGATACAGGTAGGTCATCATCGCA...        145\n",
       "361  AACCAACTGTTACAATCAAGGTCTATGAAGGTAATTACCTTAAGTT...        208\n",
       "362  GGCTTCCCGTGCAACCAGTTTGGGCATCAGGTGCGCCGGGCGGAGC...        106\n",
       "363  GGTGCCTCAGCGTTCGGGCTGGAGACGAGGGTGAGTTTTTCCCCCT...        145\n",
       "364  AGGACAGAGGAGGCGCGTCCGGCCTTCCTGGTGAGCGTGTCTGCCC...         10\n",
       "\n",
       "[365 rows x 2 columns]"
      ]
     },
     "execution_count": 16,
     "metadata": {},
     "output_type": "execute_result"
    }
   ],
   "source": [
    "k_medoids(df,mtx,k=5)"
   ]
  },
  {
   "cell_type": "code",
   "execution_count": 17,
   "id": "7e9fe760",
   "metadata": {},
   "outputs": [
    {
     "data": {
      "text/plain": [
       "206    92\n",
       "106    88\n",
       "145    78\n",
       "208    77\n",
       "10     30\n",
       "Name: clusterid, dtype: int64"
      ]
     },
     "execution_count": 17,
     "metadata": {},
     "output_type": "execute_result"
    }
   ],
   "source": [
    "df['clusterid'].value_counts()"
   ]
  },
  {
   "cell_type": "code",
   "execution_count": null,
   "id": "f158014b",
   "metadata": {},
   "outputs": [],
   "source": [
    "kmeans_for_genetac_data(df,k=4)"
   ]
  },
  {
   "cell_type": "code",
   "execution_count": null,
   "id": "68873865",
   "metadata": {},
   "outputs": [],
   "source": [
    "k_medoids(df,mtx,k=4)"
   ]
  },
  {
   "cell_type": "code",
   "execution_count": null,
   "id": "45b8ef87",
   "metadata": {},
   "outputs": [],
   "source": [
    "agnes(df,mtx,k=4)"
   ]
  },
  {
   "cell_type": "code",
   "execution_count": null,
   "id": "05d6ef81",
   "metadata": {},
   "outputs": [],
   "source": [
    "dbs(df,mtx,eps=24,min_samples=2)"
   ]
  },
  {
   "cell_type": "code",
   "execution_count": null,
   "id": "9c56b01e",
   "metadata": {},
   "outputs": [],
   "source": []
  },
  {
   "cell_type": "code",
   "execution_count": null,
   "id": "8ea8e9ac",
   "metadata": {},
   "outputs": [],
   "source": []
  },
  {
   "cell_type": "code",
   "execution_count": null,
   "id": "6e3e996d",
   "metadata": {},
   "outputs": [],
   "source": []
  },
  {
   "cell_type": "code",
   "execution_count": null,
   "id": "8c2c2ebf",
   "metadata": {},
   "outputs": [],
   "source": []
  },
  {
   "cell_type": "code",
   "execution_count": null,
   "id": "20343eac",
   "metadata": {},
   "outputs": [],
   "source": []
  },
  {
   "cell_type": "code",
   "execution_count": null,
   "id": "21bb39be",
   "metadata": {},
   "outputs": [],
   "source": []
  },
  {
   "cell_type": "code",
   "execution_count": null,
   "id": "169ca0fe",
   "metadata": {},
   "outputs": [],
   "source": []
  },
  {
   "cell_type": "code",
   "execution_count": null,
   "id": "6cdf4764",
   "metadata": {},
   "outputs": [],
   "source": []
  },
  {
   "cell_type": "code",
   "execution_count": null,
   "id": "cffce8ca",
   "metadata": {},
   "outputs": [],
   "source": []
  },
  {
   "cell_type": "code",
   "execution_count": null,
   "id": "c238c53f",
   "metadata": {},
   "outputs": [],
   "source": []
  },
  {
   "cell_type": "code",
   "execution_count": null,
   "id": "37d4712b",
   "metadata": {},
   "outputs": [],
   "source": []
  },
  {
   "cell_type": "code",
   "execution_count": null,
   "id": "f5bbf972",
   "metadata": {},
   "outputs": [],
   "source": []
  },
  {
   "cell_type": "code",
   "execution_count": null,
   "id": "860cadfd",
   "metadata": {},
   "outputs": [],
   "source": []
  },
  {
   "cell_type": "code",
   "execution_count": null,
   "id": "f9f831c2",
   "metadata": {},
   "outputs": [],
   "source": []
  },
  {
   "cell_type": "code",
   "execution_count": null,
   "id": "a4faa1cf",
   "metadata": {},
   "outputs": [],
   "source": []
  },
  {
   "cell_type": "code",
   "execution_count": null,
   "id": "0ca617b3",
   "metadata": {},
   "outputs": [],
   "source": []
  },
  {
   "cell_type": "code",
   "execution_count": null,
   "id": "3ece528c",
   "metadata": {},
   "outputs": [],
   "source": []
  },
  {
   "cell_type": "code",
   "execution_count": null,
   "id": "5d79a8a4",
   "metadata": {},
   "outputs": [],
   "source": []
  },
  {
   "cell_type": "code",
   "execution_count": null,
   "id": "614042e1",
   "metadata": {},
   "outputs": [],
   "source": []
  },
  {
   "cell_type": "code",
   "execution_count": null,
   "id": "5e91572e",
   "metadata": {},
   "outputs": [],
   "source": []
  },
  {
   "cell_type": "code",
   "execution_count": null,
   "id": "2a3d2292",
   "metadata": {},
   "outputs": [],
   "source": []
  },
  {
   "cell_type": "code",
   "execution_count": null,
   "id": "7dc997ad",
   "metadata": {},
   "outputs": [],
   "source": []
  },
  {
   "cell_type": "code",
   "execution_count": null,
   "id": "0c2a45c7",
   "metadata": {},
   "outputs": [],
   "source": []
  },
  {
   "cell_type": "code",
   "execution_count": null,
   "id": "c94b1826",
   "metadata": {},
   "outputs": [],
   "source": []
  },
  {
   "cell_type": "code",
   "execution_count": null,
   "id": "55858ded",
   "metadata": {},
   "outputs": [],
   "source": []
  },
  {
   "cell_type": "code",
   "execution_count": null,
   "id": "ba390993",
   "metadata": {},
   "outputs": [],
   "source": []
  },
  {
   "cell_type": "code",
   "execution_count": null,
   "id": "8ca4dec7",
   "metadata": {},
   "outputs": [],
   "source": []
  },
  {
   "cell_type": "code",
   "execution_count": null,
   "id": "5f491157",
   "metadata": {},
   "outputs": [],
   "source": []
  },
  {
   "cell_type": "code",
   "execution_count": null,
   "id": "4838d9c9",
   "metadata": {},
   "outputs": [],
   "source": [
    "df['clusterid'].value_counts()"
   ]
  },
  {
   "cell_type": "code",
   "execution_count": null,
   "id": "dc758f90",
   "metadata": {},
   "outputs": [],
   "source": [
    "minn = int(min(df2.describe().loc['min'].tolist()))\n",
    "maxx = int(max(df2.describe().loc['max'].tolist()))\n",
    "if (minn <= 0 ): minn =1\n",
    "main_df = pd.DataFrame()\n",
    "\n",
    "\n",
    "for e in range(minn,maxx+1):\n",
    "    for min_p in range(2,10):\n",
    "        clustering = DBSCAN(metric='precomputed',eps=e,min_samples=min_p, algorithm='brute')\n",
    "        y_db = clustering.fit_predict(df2)\n",
    "        print('---------eps: '+str()+' and min samples size: '+str()+' -------------------')\n",
    "        data_frame = pd.DataFrame()\n",
    "        unique, counts = np.unique(y_db, return_counts=True)\n",
    "        data_frame['cluster_id'] = unique\n",
    "        data_frame['number_of_sequence'] = counts\n",
    "        \n",
    "        \n",
    "        data_frame.append([e,min_p], ignore_index=True)\n",
    "        print('number of sequence not in cluster: ',data_frame.iloc[0].tolist()[1])\n",
    "        print('number of unique cluster: ',len(data_frame['cluster_id'].tolist()[1:]))"
   ]
  },
  {
   "cell_type": "code",
   "execution_count": null,
   "id": "25b8e58d",
   "metadata": {},
   "outputs": [],
   "source": [
    "main_df.to_excel('DBSCAN_test.xlsx')"
   ]
  },
  {
   "cell_type": "code",
   "execution_count": null,
   "id": "8e8d2e4c",
   "metadata": {},
   "outputs": [],
   "source": [
    "minn = int(min(df2.describe().loc['min'].tolist()))\n",
    "maxx = int(max(df2.describe().loc['max'].tolist()))\n",
    "if (minn <= 0 ): minn =1\n",
    "main_list = []\n",
    "\n",
    "for e in range(minn,maxx+1):\n",
    "    for min_p in range(2,10):\n",
    "        clustering = DBSCAN(metric='precomputed',eps=e,min_samples=min_p, algorithm='brute')\n",
    "        y_db = clustering.fit_predict(df2)\n",
    "        data_frame = pd.DataFrame()\n",
    "        unique, counts = np.unique(y_db, return_counts=True)\n",
    "        data_frame['cluster_id'] = unique\n",
    "        data_frame['number_of_sequence'] = counts      \n",
    "        main_list.append([e,min_p,data_frame.iloc[0].tolist()[1],len(data_frame['cluster_id'].tolist()[1:])])\n",
    "        \n",
    "main_df =pd.DataFrame.from_records(main_list ,columns=['eps','min_p','elem','cluster'])"
   ]
  },
  {
   "cell_type": "code",
   "execution_count": null,
   "id": "0f85f98d",
   "metadata": {},
   "outputs": [],
   "source": []
  },
  {
   "cell_type": "code",
   "execution_count": null,
   "id": "139d1c90",
   "metadata": {},
   "outputs": [],
   "source": [
    "#test temp\n",
    "for x in range(2,10):\n",
    "    minilist = []\n",
    "    \n",
    "    #k means\n",
    "    start_time = datetime.datetime.now()\n",
    "    d1= kmeans_for_genetac_data(df,k=x)    \n",
    "    minilist.append((datetime.datetime.now() - start_time).total_seconds() * 1000)\n",
    "    \n",
    "    #k medoids\n",
    "    start_time = datetime.datetime.now()\n",
    "    k_medoids(df,mtx,k=x)    \n",
    "    minilist.append((datetime.datetime.now() - start_time).total_seconds() * 1000)\n",
    "    \n",
    "    #Agnes\n",
    "    start_time = datetime.datetime.now()\n",
    "    agnes(df,mtx,n=x)\n",
    "    minilist.append((datetime.datetime.now() - start_time).total_seconds() * 1000)\n",
    "    \n",
    "    #dbscan\n",
    "    start_time = datetime.datetime.now()\n",
    "    dbs(df,mtx,eps=0.5,min_samples=5)\n",
    "    minilist.append((datetime.datetime.now() - start_time).total_seconds() * 1000)\n",
    "    \n",
    "    list_of_time.append(minilist)\n",
    "\n",
    "compression_opts = dict(method='zip',archive_name='out.csv')  \n",
    "pd.DataFrame.from_records(list_of_time).to_csv('out.zip', index=False,compression=compression_opts)    \n",
    "    "
   ]
  },
  {
   "cell_type": "code",
   "execution_count": null,
   "id": "3b1ee8e6",
   "metadata": {
    "scrolled": true
   },
   "outputs": [],
   "source": [
    "#test silhouette\n",
    "for x in range(2,10):\n",
    "    df1 = df.copy()    \n",
    "\n",
    "    d1= k_medoids(df1,mtx,k=x)\n",
    "    print(d1['clusterid'].value_counts())\n",
    "    s.append(silhouette(d1,df2))\n",
    "    print(\"x: \"+str(x))\n"
   ]
  }
 ],
 "metadata": {
  "kernelspec": {
   "display_name": "Python 3",
   "language": "python",
   "name": "python3"
  },
  "language_info": {
   "codemirror_mode": {
    "name": "ipython",
    "version": 3
   },
   "file_extension": ".py",
   "mimetype": "text/x-python",
   "name": "python",
   "nbconvert_exporter": "python",
   "pygments_lexer": "ipython3",
   "version": "3.8.7"
  }
 },
 "nbformat": 4,
 "nbformat_minor": 5
}
